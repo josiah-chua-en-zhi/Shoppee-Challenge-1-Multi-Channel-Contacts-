{
 "cells": [
  {
   "cell_type": "code",
   "execution_count": 5,
   "metadata": {},
   "outputs": [],
   "source": [
    "import numpy as np\n",
    "import pandas as pd\n",
    "import json "
   ]
  },
  {
   "cell_type": "code",
   "execution_count": 6,
   "metadata": {},
   "outputs": [],
   "source": [
    "data=pd.read_json(r\"C:\\Users\\josia\\Documents\\Shoppe Challenge 1\\contacts.json\")\n",
    "data=data.to_numpy()\n",
    "data=data.tolist()"
   ]
  },
  {
   "cell_type": "code",
   "execution_count": 7,
   "metadata": {},
   "outputs": [],
   "source": [
    "# Create Object class\n",
    "class User(object):\n",
    "    \n",
    "    def __init__(self,attributes):\n",
    "        self.dic_index=attributes[0]\n",
    "        self.ID=[attributes[0]] \n",
    "        self.Email=[attributes[1]] if attributes[1] != \"\" else []\n",
    "        self.Phone=[attributes[2]] if attributes[2] != \"\" else []\n",
    "        self.Contact=attributes[3]\n",
    "        self.OrderID=[attributes[4]] if attributes[4] !=\"\" else [] \n",
    "    \n",
    "    def get_dic_index(self):\n",
    "        return self.dic_index\n",
    "        \n",
    "    def get_ID(self):\n",
    "        return self.ID\n",
    "\n",
    "    def get_Email(self):\n",
    "        return self.Email\n",
    "\n",
    "    def get_Phone(self):\n",
    "        return self.Phone\n",
    "\n",
    "    def get_Contact(self):\n",
    "        return self.Contact\n",
    "    \n",
    "    def get_OrderID(self):\n",
    "        return self.OrderID\n",
    "        \n",
    "    def matching_attributes(self,user1_attribute,user2_attribute):\n",
    "        matching = False\n",
    "        for attribute in user2_attribute:\n",
    "            if attribute in user1_attribute:\n",
    "                matching = True\n",
    "                break\n",
    "        return matching\n",
    "    \n",
    "    def join_users(self,other_user):\n",
    "        self.ID=join_lists(self.ID , other_user.get_ID())\n",
    "        self.Email = join_lists(self.Email , other_user.get_Email())\n",
    "        self.Phone = join_lists(self.Phone , other_user.get_Phone())\n",
    "        self.Contact= self.Contact + other_user.get_Contact()\n",
    "        self.Order_ID= join_lists(self.OrderID ,other_user.get_OrderID())\n",
    "            \n",
    "    def transform(self):\n",
    "        #print(\"transform {}\".format(self.dic_index))\n",
    "        seperator_1=\"-\"\n",
    "        ticket_trace=\"\"\n",
    "        IDs= sorted(self.ID)\n",
    "        for ID in IDs:\n",
    "            if ticket_trace==\"\":\n",
    "                ticket_trace=str(ID)\n",
    "            else:\n",
    "                ticket_trace=seperator_1.join((ticket_trace, str(ID)))\n",
    "        seperator_2=\", \"\n",
    "        ticket_trace_contact= seperator_2.join((ticket_trace, str(self.Contact)))\n",
    "        table=[]\n",
    "        for ID in self.ID:\n",
    "            table.append([int(ID),ticket_trace_contact])\n",
    "        table=np.array(table,ndmin=2)\n",
    "        #print(table)\n",
    "        return table\n",
    "        \n",
    "    def add_Contact(self, ticket_contact):\n",
    "        self.Contact+=ticket_contact\n",
    "\n",
    "\n",
    "def join_lists(list1, list2):\n",
    "    final_list=list1\n",
    "    for item in list2:\n",
    "        if item not in final_list:\n",
    "            final_list.append(item)\n",
    "    return final_list\n"
   ]
  },
  {
   "cell_type": "code",
   "execution_count": 8,
   "metadata": {},
   "outputs": [],
   "source": [
    "# Common functions\n",
    "def get_user_email(user):\n",
    "    return user.get_Email()\n",
    "\n",
    "def get_user_phone(user):\n",
    "    return user.get_Phone()\n",
    "\n",
    "def get_user_OrderID(user):\n",
    "    return user.get_OrderID()"
   ]
  },
  {
   "cell_type": "code",
   "execution_count": 9,
   "metadata": {},
   "outputs": [],
   "source": [
    "# Create Comparing fuction\n",
    "\n",
    "def Contact_Tracing(dataset):\n",
    "    \n",
    "    users={}\n",
    "    Emails={}\n",
    "    Phones={}\n",
    "    OrderID={}\n",
    "    \n",
    "    for ticket in dataset:\n",
    "        \n",
    "        new_user=User(ticket)\n",
    "        merged=[]\n",
    "        dic_index=new_user.get_dic_index()\n",
    "        \n",
    "        def compare_attribute(attribute_dic,attribute_fn):\n",
    "            #print(\"before {}, {},{}\".format(Emails,Phones,OrderID))\n",
    "            attribute_lst=attribute_fn(new_user)\n",
    "            \n",
    "            if attribute_lst!=[]:\n",
    "                \n",
    "                attribute=attribute_lst[0]\n",
    "                \n",
    "                if attribute in attribute_dic:\n",
    "                    match=attribute_dic[attribute]\n",
    "                    if match not in merged:\n",
    "                        merged.append(match)\n",
    "                        new_user.join_users(users[match])\n",
    "                        #print(\"NEW_user {}, {}, {},{}\".format(new_user.get_dic_index(),new_user.get_Email(),new_user.get_Phone(),new_user.get_OrderID()))\n",
    "                        del users[match]\n",
    "                    \n",
    "        \n",
    "        #print(\"dic index {}\".format(dic_index))\n",
    "        compare_attribute(Emails,get_user_email)\n",
    "        compare_attribute(Phones,get_user_phone)\n",
    "        compare_attribute(OrderID,get_user_OrderID)\n",
    "        #print(\"user {}, {}, {},{}\".format(new_user.get_dic_index(),new_user.get_Email(),new_user.get_Phone(),new_user.get_OrderID()))\n",
    "        \n",
    "        for email in new_user.get_Email():\n",
    "            Emails[email]=dic_index\n",
    "        for phone in new_user.get_Phone():\n",
    "            Phones[phone]=dic_index\n",
    "        for orderid in new_user.get_OrderID():\n",
    "            OrderID[orderid]=dic_index\n",
    "        users[dic_index]=new_user\n",
    "            \n",
    "    table=[]\n",
    "    \n",
    "    for dic_index in users:\n",
    "        users_info=users[dic_index].transform()\n",
    "        for info in users_info:\n",
    "            table.append(info)\n",
    "\n",
    "    return table"
   ]
  },
  {
   "cell_type": "code",
   "execution_count": 10,
   "metadata": {},
   "outputs": [
    {
     "name": "stdout",
     "output_type": "stream",
     "text": [
      "Wall time: 8.89 s\n"
     ]
    }
   ],
   "source": [
    "%%time\n",
    "Compiled_data=Contact_Tracing(data)"
   ]
  },
  {
   "cell_type": "code",
   "execution_count": 11,
   "metadata": {},
   "outputs": [],
   "source": [
    "Final_Data= pd.DataFrame(Compiled_data, columns = ['ticket_id','ticket_trace/contact'])\n",
    "Final_Data.ticket_id=Final_Data.ticket_id.astype(int)\n",
    "Final_Data=Final_Data.sort_values(by='ticket_id')\n",
    "Final_Data.to_csv(r\"C:\\Users\\josia\\Documents\\Shoppe Challenge 1\\results.csv\",index=False)"
   ]
  },
  {
   "cell_type": "code",
   "execution_count": null,
   "metadata": {},
   "outputs": [],
   "source": []
  },
  {
   "cell_type": "code",
   "execution_count": null,
   "metadata": {},
   "outputs": [],
   "source": []
  },
  {
   "cell_type": "code",
   "execution_count": null,
   "metadata": {},
   "outputs": [],
   "source": []
  },
  {
   "cell_type": "code",
   "execution_count": null,
   "metadata": {},
   "outputs": [],
   "source": []
  }
 ],
 "metadata": {
  "kernelspec": {
   "display_name": "Python 3",
   "language": "python",
   "name": "python3"
  },
  "language_info": {
   "codemirror_mode": {
    "name": "ipython",
    "version": 3
   },
   "file_extension": ".py",
   "mimetype": "text/x-python",
   "name": "python",
   "nbconvert_exporter": "python",
   "pygments_lexer": "ipython3",
   "version": "3.8.5"
  }
 },
 "nbformat": 4,
 "nbformat_minor": 4
}
